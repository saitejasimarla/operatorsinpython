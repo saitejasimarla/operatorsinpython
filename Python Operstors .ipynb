{
 "cells": [
  {
   "cell_type": "code",
   "execution_count": 15,
   "id": "230d8ed0",
   "metadata": {},
   "outputs": [],
   "source": [
    "# Operators in python\n",
    "    # 1) Arithematic Operators\n",
    "    # 2) Comparison Operators\n",
    "    # 3) Identity Operators\n",
    "    # 4) Logical Operators\n",
    "    # 5) Membership Operators\n",
    "    # 6) Bitwise Operators\n",
    "    # 7) Assignment Operators"
   ]
  },
  {
   "cell_type": "code",
   "execution_count": 16,
   "id": "03dc71c4",
   "metadata": {},
   "outputs": [
    {
     "name": "stdout",
     "output_type": "stream",
     "text": [
      "Addition of x and y:  5\n",
      "Subtraction of x and y:  -1\n",
      "Multiplication of x and y:  6\n",
      "Division of x and y:  0.6666666666666666\n",
      "Modulus of x and y:  2\n",
      "Exponentiation of x and y:  8\n",
      "Floor division of x and y:  0\n"
     ]
    }
   ],
   "source": [
    "#  1) Arthematic Operators\n",
    "\n",
    "x=2\n",
    "y=3\n",
    "print(\"Addition of x and y: \", x + y)        # Addition (+) operator\n",
    "print(\"Subtraction of x and y: \", x - y)     # Subtraction (-) operator\n",
    "print(\"Multiplication of x and y: \",x * y)   # Multiplication (*) operator\n",
    "print(\"Division of x and y: \", x / y)        # Division ( / ) operator\n",
    "print(\"Modulus of x and y: \", x % y)         # Modulus ( % ) operator\n",
    "print(\"Exponentiation of x and y: \", x ** y) # Exponentiation ( ** ) operator\n",
    "print(\"Floor division of x and y: \", x // y) # Floor division ( // ) operator"
   ]
  },
  {
   "cell_type": "code",
   "execution_count": 17,
   "id": "c73ba866",
   "metadata": {},
   "outputs": [
    {
     "name": "stdout",
     "output_type": "stream",
     "text": [
      "False\n",
      "True\n",
      "True\n",
      "False\n",
      "True\n",
      "False\n"
     ]
    }
   ],
   "source": [
    "# 2) Comparison Operators\n",
    "\n",
    "x = 2\n",
    "y = 1\n",
    "\n",
    "print(x == y)     # prints true, when both x and y are equal.\n",
    "print(x != y)     # prints true, when both x and y are no equal.\n",
    "print(x > y)      # prints true, when x is greater than y.\n",
    "print(x < y)      # prints true, when x is less than y.\n",
    "print(x >= y)     # prints true, when x is greater than or equal to y.\n",
    "print(x <= y)     # prints true, when x is less than or equal to y."
   ]
  },
  {
   "cell_type": "code",
   "execution_count": 18,
   "id": "56749168",
   "metadata": {},
   "outputs": [
    {
     "name": "stdout",
     "output_type": "stream",
     "text": [
      "False\n",
      "True\n",
      "True\n",
      "False\n",
      "True\n",
      "False\n"
     ]
    }
   ],
   "source": [
    "#  comparison operators by using strings\n",
    "a = 'hi'\n",
    "b = 'hello'\n",
    "\n",
    "print(a == b)     # prints true, when both x and y are equal.\n",
    "print(a != b)     # prints true, when both x and y are no equal.\n",
    "print(a > b)      # prints true, when x is greater than y.\n",
    "print(a < b)      # prints true, when x is less than y.\n",
    "print(a >= b)     # prints true, when x is greater than or equal to y.\n",
    "print(a <= b)     # prints true, when x is less than or equal to y."
   ]
  },
  {
   "cell_type": "code",
   "execution_count": 19,
   "id": "b9a85f2f",
   "metadata": {},
   "outputs": [
    {
     "name": "stdout",
     "output_type": "stream",
     "text": [
      "False\n",
      "True\n",
      "140729184916392 140729184916328\n"
     ]
    }
   ],
   "source": [
    "# 3) Identity Operators\n",
    "\n",
    "x = 5\n",
    "y = 3\n",
    "\n",
    "print( x is y)        # is operator: x and y same memory location, then it prints true otherwise prints false.\n",
    "print( x is not y)    # is not operator: x and y different memory location, then it prints true otherwise prints false.\n",
    "print( id(x), id(y))  # id function prints memory location."
   ]
  },
  {
   "cell_type": "code",
   "execution_count": 20,
   "id": "e99882b7",
   "metadata": {},
   "outputs": [
    {
     "name": "stdout",
     "output_type": "stream",
     "text": [
      "False\n",
      "False\n",
      "False\n",
      "False\n",
      "True\n",
      "True\n",
      "False\n",
      "False\n",
      "False\n",
      "True\n",
      "False\n",
      "True\n"
     ]
    }
   ],
   "source": [
    "# 4) Logical Operations\n",
    "\n",
    "\n",
    " \n",
    "a = 'hi'\n",
    "b = 'hello'\n",
    "c = (1,2,3)\n",
    "d = (1,2,3)\n",
    "\n",
    "# and operator.\n",
    "# if both statements are true prints true otherwise prints false.\n",
    "print( a > b and c > d )\n",
    "print( a > b and c < d )\n",
    "print( a < b and c > d )\n",
    "print( a < b and c < d )\n",
    "\n",
    "\n",
    "# or operator.\n",
    "# if any one of the statement is true it prints true.\n",
    "print( a > b or c > d )\n",
    "print( a > b or c < d )\n",
    "print( a < b or c > d )\n",
    "print( a < b or c < d )\n",
    "\n",
    "\n",
    "# not operator.\n",
    "# it reverse the result, if it is true it prints false.\n",
    "print( not a > b )\n",
    "print( not a < b )\n",
    "print( not a > b )\n",
    "print( not a < b )"
   ]
  },
  {
   "cell_type": "code",
   "execution_count": 21,
   "id": "e04a1701",
   "metadata": {},
   "outputs": [
    {
     "name": "stdout",
     "output_type": "stream",
     "text": [
      "2\n",
      "7\n",
      "5\n",
      "-4 -7\n",
      "192\n",
      "0\n"
     ]
    }
   ],
   "source": [
    "# 6) Bitwise Operators.\n",
    "\n",
    "x = 3\n",
    "y = 6\n",
    "\n",
    "\n",
    "print( x & y)   # it gives the output by AND (&) bitwise operation.\n",
    "print( x | y)   # it gives the output by OR (|) bitwise operation.\n",
    "print( x ^ y)   # it gives the output by XOR (^) bitwise operation.\n",
    "print( ~x, ~y)  # it gives the output by NOT (~) bitwise operation.\n",
    "print( x << y)  # it gives the output by left shift ( << ) bitwise operation.\n",
    "print( x >> y)  # it gives the output by right shift ( >> ) bitwise operation."
   ]
  },
  {
   "cell_type": "code",
   "execution_count": 36,
   "id": "04be1f14",
   "metadata": {},
   "outputs": [
    {
     "name": "stdout",
     "output_type": "stream",
     "text": [
      "2\n",
      "4\n",
      "2\n",
      "4\n",
      "2.0\n",
      "0.0\n",
      "0.0\n",
      "0.0\n",
      "2\n",
      "3\n",
      "1\n",
      "12\n",
      "0\n"
     ]
    }
   ],
   "source": [
    "# 7) Assignment Operators.\n",
    "\n",
    "x = 3\n",
    "y = 2\n",
    "\n",
    "x = y            # Assigning values x = y  using = operator.\n",
    "print(x)  \n",
    "\n",
    "x += y           # Add the right side vaue with left side value, then assign the result to the left.\n",
    "print(x)\n",
    "\n",
    "x -= y           # Subtract the right side value with left side value, then assign the result to left.\n",
    "print(x)\n",
    "\n",
    "x *= y           # Multipy the right side value with left side value, then assign the result to left.\n",
    "print(x)\n",
    "\n",
    "x /= y           # Divides the right side value with left side value, then assgin the result to left.\n",
    "print(x)\n",
    "\n",
    "x %= y            # take the modulus using the left and the right operands and then assigning the result to the left operand.\n",
    "print(x)\n",
    "\n",
    "x //= y          # to divide the left operand with the right operand and then assigning the result(floor) to the left operand.\n",
    "print(x)\n",
    "\n",
    "x **= y          # calculate the exponent value using operands and then assigning the result to the left operand.\n",
    "print(x)\n",
    "\n",
    "x=3\n",
    "y=2\n",
    "x &= y\n",
    "print(x)         # performs AND(&) with x value by y and stores in x\n",
    "\n",
    "x=3\n",
    "y=2\n",
    "x |= y\n",
    "print(x)         # performs OR(|) with x value by y and stores in x\n",
    "\n",
    "x=3\n",
    "y=2\n",
    "x ^= y\n",
    "print(x)         # performs EXOR(^) with x value by y and stores in x\n",
    "\n",
    "x=3\n",
    "y=2\n",
    "x <<= y\n",
    "print(x)         # performs LEFT SHIFT(<<) with x value by y and stores in x\n",
    "\n",
    "\n",
    "x=3\n",
    "y=2\n",
    "x >>= y\n",
    "print(x)         # performs RIGHT SHIFT(>>) with x value by y and stores in x"
   ]
  },
  {
   "cell_type": "code",
   "execution_count": 30,
   "id": "d1774ed5",
   "metadata": {},
   "outputs": [
    {
     "name": "stdout",
     "output_type": "stream",
     "text": [
      "True\n",
      "False\n",
      "True\n",
      "False\n"
     ]
    }
   ],
   "source": [
    "# 5) Membership Operators\n",
    "\n",
    "# in operator\n",
    "# in operator prints true when the value present in the object \n",
    "x=[1,2,3,4]\n",
    "print(3 in x)\n",
    "print(5 in x)\n",
    "\n",
    "# not in operator\n",
    "# prints true when a value not prasent in the object\n",
    "print(6 not in x)\n",
    "print(3 not in x)"
   ]
  }
 ],
 "metadata": {
  "kernelspec": {
   "display_name": "Python 3 (ipykernel)",
   "language": "python",
   "name": "python3"
  },
  "language_info": {
   "codemirror_mode": {
    "name": "ipython",
    "version": 3
   },
   "file_extension": ".py",
   "mimetype": "text/x-python",
   "name": "python",
   "nbconvert_exporter": "python",
   "pygments_lexer": "ipython3",
   "version": "3.11.3"
  }
 },
 "nbformat": 4,
 "nbformat_minor": 5
}
